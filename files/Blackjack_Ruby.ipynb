{
  "nbformat": 4,
  "nbformat_minor": 0,
  "metadata": {
    "colab": {
      "provenance": []
    },
    "kernelspec": {
      "name": "python3",
      "display_name": "Python 3"
    },
    "language_info": {
      "name": "python"
    }
  },
  "cells": [
    {
      "cell_type": "code",
      "execution_count": 2,
      "metadata": {
        "colab": {
          "base_uri": "https://localhost:8080/"
        },
        "id": "ee0ug_dxVeW3",
        "outputId": "6d0aa4c2-e107-488c-9d83-d0ca46ec5f75"
      },
      "outputs": [
        {
          "output_type": "stream",
          "name": "stdout",
          "text": [
            "Reading package lists... Done\n",
            "Building dependency tree... Done\n",
            "Reading state information... Done\n",
            "The following additional packages will be installed:\n",
            "  fonts-lato libgmp-dev libgmpxx4ldbl libruby3.0 rake ri ruby ruby-dev\n",
            "  ruby-net-telnet ruby-rubygems ruby-webrick ruby-xmlrpc ruby3.0 ruby3.0-dev\n",
            "  ruby3.0-doc rubygems-integration\n",
            "Suggested packages:\n",
            "  gmp-doc libgmp10-doc libmpfr-dev bundler\n",
            "The following NEW packages will be installed:\n",
            "  fonts-lato libgmp-dev libgmpxx4ldbl libruby3.0 rake ri ruby ruby-dev\n",
            "  ruby-full ruby-net-telnet ruby-rubygems ruby-webrick ruby-xmlrpc ruby3.0\n",
            "  ruby3.0-dev ruby3.0-doc rubygems-integration\n",
            "0 upgraded, 17 newly installed, 0 to remove and 34 not upgraded.\n",
            "Need to get 10.7 MB of archives.\n",
            "After this operation, 58.1 MB of additional disk space will be used.\n",
            "Get:1 http://archive.ubuntu.com/ubuntu jammy/main amd64 fonts-lato all 2.0-2.1 [2,696 kB]\n",
            "Get:2 http://archive.ubuntu.com/ubuntu jammy/main amd64 libgmpxx4ldbl amd64 2:6.2.1+dfsg-3ubuntu1 [9,580 B]\n",
            "Get:3 http://archive.ubuntu.com/ubuntu jammy/main amd64 libgmp-dev amd64 2:6.2.1+dfsg-3ubuntu1 [337 kB]\n",
            "Get:4 http://archive.ubuntu.com/ubuntu jammy/main amd64 rubygems-integration all 1.18 [5,336 B]\n",
            "Get:5 http://archive.ubuntu.com/ubuntu jammy-updates/main amd64 ruby3.0 amd64 3.0.2-7ubuntu2.10 [50.1 kB]\n",
            "Get:6 http://archive.ubuntu.com/ubuntu jammy/main amd64 ruby-rubygems all 3.3.5-2 [228 kB]\n",
            "Get:7 http://archive.ubuntu.com/ubuntu jammy/main amd64 ruby amd64 1:3.0~exp1 [5,100 B]\n",
            "Get:8 http://archive.ubuntu.com/ubuntu jammy/main amd64 rake all 13.0.6-2 [61.7 kB]\n",
            "Get:9 http://archive.ubuntu.com/ubuntu jammy/main amd64 ruby-net-telnet all 0.1.1-2 [12.6 kB]\n",
            "Get:10 http://archive.ubuntu.com/ubuntu jammy-updates/main amd64 ruby-webrick all 1.7.0-3ubuntu0.1 [52.1 kB]\n",
            "Get:11 http://archive.ubuntu.com/ubuntu jammy-updates/main amd64 ruby-xmlrpc all 0.3.2-1ubuntu0.1 [24.9 kB]\n",
            "Get:12 http://archive.ubuntu.com/ubuntu jammy-updates/main amd64 libruby3.0 amd64 3.0.2-7ubuntu2.10 [5,114 kB]\n",
            "Get:13 http://archive.ubuntu.com/ubuntu jammy-updates/main amd64 ruby3.0-doc all 3.0.2-7ubuntu2.10 [1,858 kB]\n",
            "Get:14 http://archive.ubuntu.com/ubuntu jammy/universe amd64 ri all 1:3.0~exp1 [4,206 B]\n",
            "Get:15 http://archive.ubuntu.com/ubuntu jammy-updates/main amd64 ruby3.0-dev amd64 3.0.2-7ubuntu2.10 [242 kB]\n",
            "Get:16 http://archive.ubuntu.com/ubuntu jammy/main amd64 ruby-dev amd64 1:3.0~exp1 [4,328 B]\n",
            "Get:17 http://archive.ubuntu.com/ubuntu jammy/universe amd64 ruby-full all 1:3.0~exp1 [2,582 B]\n",
            "Fetched 10.7 MB in 1s (10.1 MB/s)\n",
            "debconf: unable to initialize frontend: Dialog\n",
            "debconf: (No usable dialog-like program is installed, so the dialog based frontend cannot be used. at /usr/share/perl5/Debconf/FrontEnd/Dialog.pm line 78, <> line 17.)\n",
            "debconf: falling back to frontend: Readline\n",
            "debconf: unable to initialize frontend: Readline\n",
            "debconf: (This frontend requires a controlling tty.)\n",
            "debconf: falling back to frontend: Teletype\n",
            "dpkg-preconfigure: unable to re-open stdin: \n",
            "Selecting previously unselected package fonts-lato.\n",
            "(Reading database ... 126102 files and directories currently installed.)\n",
            "Preparing to unpack .../00-fonts-lato_2.0-2.1_all.deb ...\n",
            "Unpacking fonts-lato (2.0-2.1) ...\n",
            "Selecting previously unselected package libgmpxx4ldbl:amd64.\n",
            "Preparing to unpack .../01-libgmpxx4ldbl_2%3a6.2.1+dfsg-3ubuntu1_amd64.deb ...\n",
            "Unpacking libgmpxx4ldbl:amd64 (2:6.2.1+dfsg-3ubuntu1) ...\n",
            "Selecting previously unselected package libgmp-dev:amd64.\n",
            "Preparing to unpack .../02-libgmp-dev_2%3a6.2.1+dfsg-3ubuntu1_amd64.deb ...\n",
            "Unpacking libgmp-dev:amd64 (2:6.2.1+dfsg-3ubuntu1) ...\n",
            "Selecting previously unselected package rubygems-integration.\n",
            "Preparing to unpack .../03-rubygems-integration_1.18_all.deb ...\n",
            "Unpacking rubygems-integration (1.18) ...\n",
            "Selecting previously unselected package ruby3.0.\n",
            "Preparing to unpack .../04-ruby3.0_3.0.2-7ubuntu2.10_amd64.deb ...\n",
            "Unpacking ruby3.0 (3.0.2-7ubuntu2.10) ...\n",
            "Selecting previously unselected package ruby-rubygems.\n",
            "Preparing to unpack .../05-ruby-rubygems_3.3.5-2_all.deb ...\n",
            "Unpacking ruby-rubygems (3.3.5-2) ...\n",
            "Selecting previously unselected package ruby.\n",
            "Preparing to unpack .../06-ruby_1%3a3.0~exp1_amd64.deb ...\n",
            "Unpacking ruby (1:3.0~exp1) ...\n",
            "Selecting previously unselected package rake.\n",
            "Preparing to unpack .../07-rake_13.0.6-2_all.deb ...\n",
            "Unpacking rake (13.0.6-2) ...\n",
            "Selecting previously unselected package ruby-net-telnet.\n",
            "Preparing to unpack .../08-ruby-net-telnet_0.1.1-2_all.deb ...\n",
            "Unpacking ruby-net-telnet (0.1.1-2) ...\n",
            "Selecting previously unselected package ruby-webrick.\n",
            "Preparing to unpack .../09-ruby-webrick_1.7.0-3ubuntu0.1_all.deb ...\n",
            "Unpacking ruby-webrick (1.7.0-3ubuntu0.1) ...\n",
            "Selecting previously unselected package ruby-xmlrpc.\n",
            "Preparing to unpack .../10-ruby-xmlrpc_0.3.2-1ubuntu0.1_all.deb ...\n",
            "Unpacking ruby-xmlrpc (0.3.2-1ubuntu0.1) ...\n",
            "Selecting previously unselected package libruby3.0:amd64.\n",
            "Preparing to unpack .../11-libruby3.0_3.0.2-7ubuntu2.10_amd64.deb ...\n",
            "Unpacking libruby3.0:amd64 (3.0.2-7ubuntu2.10) ...\n",
            "Selecting previously unselected package ruby3.0-doc.\n",
            "Preparing to unpack .../12-ruby3.0-doc_3.0.2-7ubuntu2.10_all.deb ...\n",
            "Unpacking ruby3.0-doc (3.0.2-7ubuntu2.10) ...\n",
            "Selecting previously unselected package ri.\n",
            "Preparing to unpack .../13-ri_1%3a3.0~exp1_all.deb ...\n",
            "Unpacking ri (1:3.0~exp1) ...\n",
            "Selecting previously unselected package ruby3.0-dev:amd64.\n",
            "Preparing to unpack .../14-ruby3.0-dev_3.0.2-7ubuntu2.10_amd64.deb ...\n",
            "Unpacking ruby3.0-dev:amd64 (3.0.2-7ubuntu2.10) ...\n",
            "Selecting previously unselected package ruby-dev:amd64.\n",
            "Preparing to unpack .../15-ruby-dev_1%3a3.0~exp1_amd64.deb ...\n",
            "Unpacking ruby-dev:amd64 (1:3.0~exp1) ...\n",
            "Selecting previously unselected package ruby-full.\n",
            "Preparing to unpack .../16-ruby-full_1%3a3.0~exp1_all.deb ...\n",
            "Unpacking ruby-full (1:3.0~exp1) ...\n",
            "Setting up fonts-lato (2.0-2.1) ...\n",
            "Setting up rubygems-integration (1.18) ...\n",
            "Setting up libgmpxx4ldbl:amd64 (2:6.2.1+dfsg-3ubuntu1) ...\n",
            "Setting up ruby-net-telnet (0.1.1-2) ...\n",
            "Setting up ruby-webrick (1.7.0-3ubuntu0.1) ...\n",
            "Setting up ruby3.0-doc (3.0.2-7ubuntu2.10) ...\n",
            "Setting up ruby-xmlrpc (0.3.2-1ubuntu0.1) ...\n",
            "Setting up libgmp-dev:amd64 (2:6.2.1+dfsg-3ubuntu1) ...\n",
            "Setting up rake (13.0.6-2) ...\n",
            "Setting up libruby3.0:amd64 (3.0.2-7ubuntu2.10) ...\n",
            "Setting up ruby-rubygems (3.3.5-2) ...\n",
            "Setting up ruby3.0-dev:amd64 (3.0.2-7ubuntu2.10) ...\n",
            "Setting up ruby3.0 (3.0.2-7ubuntu2.10) ...\n",
            "Setting up ruby-dev:amd64 (1:3.0~exp1) ...\n",
            "Setting up ri (1:3.0~exp1) ...\n",
            "Setting up ruby (1:3.0~exp1) ...\n",
            "Setting up ruby-full (1:3.0~exp1) ...\n",
            "Processing triggers for fontconfig (2.13.1-4.2ubuntu5) ...\n",
            "Processing triggers for libc-bin (2.35-0ubuntu3.8) ...\n",
            "/sbin/ldconfig.real: /usr/local/lib/libumf.so.0 is not a symbolic link\n",
            "\n",
            "/sbin/ldconfig.real: /usr/local/lib/libtcm_debug.so.1 is not a symbolic link\n",
            "\n",
            "/sbin/ldconfig.real: /usr/local/lib/libtbbbind.so.3 is not a symbolic link\n",
            "\n",
            "/sbin/ldconfig.real: /usr/local/lib/libhwloc.so.15 is not a symbolic link\n",
            "\n",
            "/sbin/ldconfig.real: /usr/local/lib/libtbbbind_2_5.so.3 is not a symbolic link\n",
            "\n",
            "/sbin/ldconfig.real: /usr/local/lib/libtbb.so.12 is not a symbolic link\n",
            "\n",
            "/sbin/ldconfig.real: /usr/local/lib/libur_adapter_level_zero.so.0 is not a symbolic link\n",
            "\n",
            "/sbin/ldconfig.real: /usr/local/lib/libtbbmalloc.so.2 is not a symbolic link\n",
            "\n",
            "/sbin/ldconfig.real: /usr/local/lib/libtbbbind_2_0.so.3 is not a symbolic link\n",
            "\n",
            "/sbin/ldconfig.real: /usr/local/lib/libtcm.so.1 is not a symbolic link\n",
            "\n",
            "/sbin/ldconfig.real: /usr/local/lib/libur_adapter_opencl.so.0 is not a symbolic link\n",
            "\n",
            "/sbin/ldconfig.real: /usr/local/lib/libtbbmalloc_proxy.so.2 is not a symbolic link\n",
            "\n",
            "/sbin/ldconfig.real: /usr/local/lib/libur_loader.so.0 is not a symbolic link\n",
            "\n",
            "Processing triggers for man-db (2.10.2-1) ...\n"
          ]
        }
      ],
      "source": [
        "!sudo apt-get install ruby-full"
      ]
    },
    {
      "cell_type": "code",
      "source": [
        "code = \"\"\"\n",
        "deck = []\n",
        "for char in \"♥♦♣♠\".chars\n",
        "    for value in \"A23456789TJQK\".chars\n",
        "        deck << char + value\n",
        "    end\n",
        "end\n",
        "shuffled_deck = deck.shuffle\n",
        "puts shuffled_deck\n",
        "\"\"\"\n",
        "with open(\"deck.rb\", \"w\") as f:\n",
        "    f.write(code)\n",
        "\n",
        "!ruby deck.rb"
      ],
      "metadata": {
        "id": "uuI1FfcZX05b",
        "colab": {
          "base_uri": "https://localhost:8080/"
        },
        "outputId": "4d9c2b71-2f46-45bf-f644-168f8f366663"
      },
      "execution_count": 3,
      "outputs": [
        {
          "output_type": "stream",
          "name": "stdout",
          "text": [
            "♥7\n",
            "♠K\n",
            "♥J\n",
            "♣K\n",
            "♥6\n",
            "♣Q\n",
            "♦T\n",
            "♦4\n",
            "♠2\n",
            "♥8\n",
            "♣5\n",
            "♣T\n",
            "♣4\n",
            "♦Q\n",
            "♣8\n",
            "♣3\n",
            "♥T\n",
            "♠T\n",
            "♠4\n",
            "♠6\n",
            "♥5\n",
            "♣A\n",
            "♥3\n",
            "♦K\n",
            "♥A\n",
            "♠7\n",
            "♥4\n",
            "♥Q\n",
            "♠3\n",
            "♣6\n",
            "♦A\n",
            "♠9\n",
            "♥K\n",
            "♥9\n",
            "♦2\n",
            "♠Q\n",
            "♠5\n",
            "♠J\n",
            "♦6\n",
            "♣J\n",
            "♦9\n",
            "♠A\n",
            "♦7\n",
            "♦J\n",
            "♣9\n",
            "♦5\n",
            "♠8\n",
            "♣7\n",
            "♦8\n",
            "♦3\n",
            "♥2\n",
            "♣2\n"
          ]
        }
      ]
    },
    {
      "cell_type": "code",
      "source": [
        "code = \"\"\"\n",
        "counter = 0\n",
        "hand = ['5', 'K', 'Q', '6']\n",
        "tens = ['T', 'J', 'Q', 'K']\n",
        "\n",
        "hand.each do |element|\n",
        "    if tens.include?(element)\n",
        "        counter += 10\n",
        "    else\n",
        "        counter += element.to_i\n",
        "    end\n",
        "end\n",
        "\n",
        "puts counter\n",
        "\"\"\"\n",
        "\n",
        "with open(\"user_count.rb\", \"w\") as f:\n",
        "    f.write(code)\n",
        "\n",
        "!ruby user_count.rb"
      ],
      "metadata": {
        "colab": {
          "base_uri": "https://localhost:8080/"
        },
        "id": "_CaxqJwKjAct",
        "outputId": "13de5de9-f2dd-47b2-f0e8-7d6c8de43792"
      },
      "execution_count": 31,
      "outputs": [
        {
          "output_type": "stream",
          "name": "stdout",
          "text": [
            "31\n"
          ]
        }
      ]
    },
    {
      "cell_type": "code",
      "source": [
        "code = \"\"\"\n",
        "counter = 5\n",
        "hand = ['5', 'K', 'A', '6']\n",
        "\n",
        "if hand.include?('A')\n",
        "    puts \"Do you want the Ace to count for 1 or 11?\"\n",
        "    ace = gets\n",
        "    puts \"Ace will count as #{ace}\"\n",
        "    end\n",
        "\n",
        "counter += ace.to_i\n",
        "\n",
        "puts counter\n",
        "\n",
        "\"\"\"\n",
        "\n",
        "with open(\"hand.rb\", \"w\") as f:\n",
        "    f.write(code)\n",
        "\n",
        "!ruby hand.rb"
      ],
      "metadata": {
        "colab": {
          "base_uri": "https://localhost:8080/"
        },
        "id": "5LL0TbuN1726",
        "outputId": "70518996-93e9-4833-f180-1e2c6ad80713"
      },
      "execution_count": 50,
      "outputs": [
        {
          "output_type": "stream",
          "name": "stdout",
          "text": [
            "Do you want the Ace to count for 1 or 11?\n",
            "11\n",
            "Ace will count as 11\n",
            "16\n"
          ]
        }
      ]
    },
    {
      "cell_type": "code",
      "source": [
        "code = \"\"\"\n",
        "puts \"Rules: \\nYour goal is to get a hand closest but not above 21 compared to the dealer's\"\n",
        "puts \"Cards 2-9 have their face value, cards 10-K are worth 10, and A can be 1 or 11.\"\n",
        "puts \"You will be given two cards and see only one of the dealer's. Write 'Hit' to recieve another or 'Stand' to remain as you are.\"\n",
        "\"\"\"\n",
        "\n",
        "with open('Rules.rb', 'w') as f:\n",
        "    f.write(code)\n",
        "\n",
        "!ruby Rules.rb"
      ],
      "metadata": {
        "colab": {
          "base_uri": "https://localhost:8080/"
        },
        "id": "Jwd8-ExQ5oFR",
        "outputId": "0d51eeb7-3f2c-4851-de52-a6e7e93973ab"
      },
      "execution_count": 6,
      "outputs": [
        {
          "output_type": "stream",
          "name": "stdout",
          "text": [
            "Rules: \n",
            "Your goal is to get a hand closest but not above 21 compared to the dealer's\n",
            "Cards 2-9 have their face value, cards 10-K are worth 10, and A can be 1 or 11.\n",
            "You will be given two cards and see only one of the dealer's. Write 'Hit' to recieve another or 'Stand' to remain as you are.\n"
          ]
        }
      ]
    }
  ]
}